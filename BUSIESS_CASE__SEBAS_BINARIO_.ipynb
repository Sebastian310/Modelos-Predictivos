{
  "nbformat": 4,
  "nbformat_minor": 0,
  "metadata": {
    "colab": {
      "provenance": [],
      "include_colab_link": true
    },
    "kernelspec": {
      "name": "python3",
      "display_name": "Python 3"
    },
    "language_info": {
      "name": "python"
    }
  },
  "cells": [
    {
      "cell_type": "markdown",
      "metadata": {
        "id": "view-in-github",
        "colab_type": "text"
      },
      "source": [
        "<a href=\"https://colab.research.google.com/github/Sebastian310/Modelos-Predictivos/blob/main/BUSIESS_CASE__SEBAS_BINARIO_.ipynb\" target=\"_parent\"><img src=\"https://colab.research.google.com/assets/colab-badge.svg\" alt=\"Open In Colab\"/></a>"
      ]
    },
    {
      "cell_type": "code",
      "source": [
        "# importar librerias\n",
        "\n",
        "import pandas as pd\n",
        "\n",
        "from sklearn.linear_model import LogisticRegression\n",
        "from sklearn.metrics import accuracy_score\n",
        "from sklearn.svm import SVC\n",
        "from sklearn.metrics import roc_auc_score\n",
        "import numpy as np\n",
        "from sklearn.ensemble import RandomForestClassifier,GradientBoostingClassifier\n",
        "from sklearn.neighbors import KNeighborsClassifier\n",
        "import warnings\n",
        "warnings.filterwarnings('ignore')\n",
        "import xgboost as xgb\n",
        "from xgboost import XGBClassifier\n"
      ],
      "metadata": {
        "id": "zAfJAiwa5gWs"
      },
      "execution_count": null,
      "outputs": []
    },
    {
      "cell_type": "code",
      "source": [
        "# Importamos base de datos, eliminamos Filas Vacías y revisamos tipos de variables de las columnas\n",
        "\n",
        "df = pd.read_excel(\"DataTFM2.xlsx\").dropna()\n",
        "df.info()"
      ],
      "metadata": {
        "id": "E3FI63dW3FH5",
        "colab": {
          "base_uri": "https://localhost:8080/"
        },
        "outputId": "f86dfa5f-cd88-4e0d-9296-2cd092de734a"
      },
      "execution_count": null,
      "outputs": [
        {
          "output_type": "stream",
          "name": "stdout",
          "text": [
            "<class 'pandas.core.frame.DataFrame'>\n",
            "RangeIndex: 15576 entries, 0 to 15575\n",
            "Data columns (total 19 columns):\n",
            " #   Column                     Non-Null Count  Dtype         \n",
            "---  ------                     --------------  -----         \n",
            " 0   Round                      15576 non-null  int64         \n",
            " 1   Date                       15576 non-null  datetime64[ns]\n",
            " 2   Time                       15576 non-null  object        \n",
            " 3   Team                       15576 non-null  object        \n",
            " 4   Team_Score                 15576 non-null  int64         \n",
            " 5   Team_accum_goals           15576 non-null  int64         \n",
            " 6   Team_accum_goals_conceded  15576 non-null  int64         \n",
            " 7   team_accum_points          15576 non-null  int64         \n",
            " 8   Opponent                   15576 non-null  object        \n",
            " 9   Opponent_Score             15576 non-null  int64         \n",
            " 10  opp_accum_goals            15576 non-null  int64         \n",
            " 11  opp_accum_goals_conceded   15576 non-null  int64         \n",
            " 12  opp_accum_points           15576 non-null  int64         \n",
            " 13  Team_Points                15576 non-null  int64         \n",
            " 14  Opponent_Points            15576 non-null  int64         \n",
            " 15  season                     15576 non-null  int64         \n",
            " 16  Location                   15576 non-null  object        \n",
            " 17  Country                    15576 non-null  object        \n",
            " 18  Competition                15576 non-null  object        \n",
            "dtypes: datetime64[ns](1), int64(12), object(6)\n",
            "memory usage: 2.3+ MB\n"
          ]
        }
      ]
    },
    {
      "cell_type": "code",
      "source": [
        "# Creamos 5 columnas ( 5 Fechas) para los resultados del equipo local en fechas anteriores (creando variables rezagada) utilizando el mètodo shift.\n",
        "\n",
        "df['Team_Points(T-1)'] = df.groupby('Team')['Team_Points'].shift(1)\n",
        "df['Team_Points(T-2)'] = df.groupby('Team')['Team_Points'].shift(2)\n",
        "df['Team_Points(T-3)'] = df.groupby('Team')['Team_Points'].shift(3)\n",
        "df['Team_Points(T-4)'] = df.groupby('Team')['Team_Points'].shift(4)\n",
        "df['Team_Points(T-5)'] = df.groupby('Team')['Team_Points'].shift(5)\n"
      ],
      "metadata": {
        "id": "RqMpSml4fKGK"
      },
      "execution_count": null,
      "outputs": []
    },
    {
      "cell_type": "code",
      "source": [
        "# Creamos Nuevos dataframes (dfhome) y (dfaway) y se resetea el indice para evitar que los nuevos tengan el indice del dataframe original.\n",
        "\n",
        "dfaway = df[df[\"Location\"]==\"Away\"].reset_index(drop=True)\n",
        "dfhome = df[df[\"Location\"]==\"Home\"].sort_values(by=[\"Opponent\",\"season\",\"Round\"]).reset_index(drop=True)"
      ],
      "metadata": {
        "id": "SfrUo6qsfSih"
      },
      "execution_count": null,
      "outputs": []
    },
    {
      "cell_type": "code",
      "source": [
        "# Crear columnas para resultados del oponente en fechas anteriores (variables rezagadas) (esto para anexar columnas a home)\n",
        "\n",
        "dfhome['Opp_Points(T-1)'] = dfaway['Team_Points(T-1)']\n",
        "dfhome['Opp_Points(T-2)'] = dfaway['Team_Points(T-2)']\n",
        "dfhome['Opp_Points(T-3)'] = dfaway['Team_Points(T-3)']\n",
        "dfhome['Opp_Points(T-4)'] = dfaway['Team_Points(T-4)']\n",
        "dfhome['Opp_Points(T-5)'] = dfaway['Team_Points(T-5)']"
      ],
      "metadata": {
        "id": "4zBwqYPqgfjK"
      },
      "execution_count": null,
      "outputs": []
    },
    {
      "cell_type": "code",
      "source": [
        "# Creamos el nuevo dataset con todas las variables, descartando las que no se usarán , renombrando variables y verificando el tipo de las mismas.\n",
        "\n",
        "newdf = dfhome.sort_values(by=[\"Date\",\"Round\"]).reset_index(drop=True)\n",
        "col_eliminar = [\"Time\",\"Date\", \"Location\",\"Opponent_Points\",\"Country\",\"Competition\",\"Team_Score\",\"Opponent_Score\"]\n",
        "newdf.drop(col_eliminar, axis=1,inplace=True)\n",
        "newnames = {\"Team_Points\": \"Result\", \"team_accum_points\":\"Team_accum_points\",\"opp_accum_goals\":\"Opp_accum_goals\",\"opp_accum_points\":\"Opp_accum_points\",\"season\":\"Season\"}\n",
        "newdf.rename(columns=newnames, inplace=True)\n",
        "newdf.info()"
      ],
      "metadata": {
        "id": "678XejaKgoAt"
      },
      "execution_count": null,
      "outputs": []
    },
    {
      "cell_type": "code",
      "source": [
        "# Binarizo el resultado  de la variable independiente \"Result\" del nuevo dataframe, dònde pérdida(o) y empate (1) son igual a 0,  y victoria(3) =1\n",
        "\n",
        "newdf['Result'] = newdf['Result'].replace({0: 0, 1: 0,3:1})"
      ],
      "metadata": {
        "id": "rHbN2tJ5w8XF"
      },
      "execution_count": null,
      "outputs": []
    },
    {
      "cell_type": "code",
      "source": [
        "# Reorganizamos el Datafreme Home\n",
        "\n",
        "nuevo_orden_columnas = ['Round', 'Team', 'Team_accum_goals',\"Team_accum_goals_conceded\", 'Team_accum_points', 'Opponent',\n",
        "                         'Opp_accum_goals',\"opp_accum_goals_conceded\", 'Opp_accum_points',\n",
        "                        'Season', 'Team_Points(T-1)', 'Team_Points(T-2)', 'Team_Points(T-3)',\n",
        "                        'Team_Points(T-4)', 'Team_Points(T-5)', 'Opp_Points(T-1)',\n",
        "                        'Opp_Points(T-2)', 'Opp_Points(T-3)', 'Opp_Points(T-4)',\n",
        "                        'Opp_Points(T-5)', 'Result']\n",
        "\n",
        "newdf = newdf.reindex(columns=nuevo_orden_columnas)"
      ],
      "metadata": {
        "id": "rET-D-M8_za0"
      },
      "execution_count": null,
      "outputs": []
    },
    {
      "cell_type": "code",
      "source": [
        "# Eliminamos  Valores Vacíos en Team_Points(T-5) y Opp_Points(T-5). Teniendo uniformidad en el dataset final a trabajar.\n",
        "\n",
        "newdf = newdf.dropna(subset=['Team_Points(T-5)', 'Opp_Points(T-5)'])\n",
        "newdf.info()"
      ],
      "metadata": {
        "id": "i_3MNf8SBP5e",
        "colab": {
          "base_uri": "https://localhost:8080/"
        },
        "outputId": "6b7fc470-c8e0-4082-8bd6-89265f695914"
      },
      "execution_count": null,
      "outputs": [
        {
          "output_type": "stream",
          "name": "stdout",
          "text": [
            "<class 'pandas.core.frame.DataFrame'>\n",
            "Int64Index: 7588 entries, 50 to 7787\n",
            "Data columns (total 21 columns):\n",
            " #   Column                     Non-Null Count  Dtype  \n",
            "---  ------                     --------------  -----  \n",
            " 0   Round                      7588 non-null   int64  \n",
            " 1   Team                       7588 non-null   object \n",
            " 2   Team_accum_goals           7588 non-null   int64  \n",
            " 3   Team_accum_goals_conceded  7588 non-null   int64  \n",
            " 4   Team_accum_points          7588 non-null   int64  \n",
            " 5   Opponent                   7588 non-null   object \n",
            " 6   Opp_accum_goals            7588 non-null   int64  \n",
            " 7   opp_accum_goals_conceded   7588 non-null   int64  \n",
            " 8   Opp_accum_points           7588 non-null   int64  \n",
            " 9   Season                     7588 non-null   int64  \n",
            " 10  Team_Points(T-1)           7588 non-null   float64\n",
            " 11  Team_Points(T-2)           7588 non-null   float64\n",
            " 12  Team_Points(T-3)           7588 non-null   float64\n",
            " 13  Team_Points(T-4)           7588 non-null   float64\n",
            " 14  Team_Points(T-5)           7588 non-null   float64\n",
            " 15  Opp_Points(T-1)            7588 non-null   float64\n",
            " 16  Opp_Points(T-2)            7588 non-null   float64\n",
            " 17  Opp_Points(T-3)            7588 non-null   float64\n",
            " 18  Opp_Points(T-4)            7588 non-null   float64\n",
            " 19  Opp_Points(T-5)            7588 non-null   float64\n",
            " 20  Result                     7588 non-null   int64  \n",
            "dtypes: float64(10), int64(9), object(2)\n",
            "memory usage: 1.3+ MB\n"
          ]
        }
      ]
    },
    {
      "cell_type": "code",
      "source": [
        "## Defino variables dependientes e independientes\n",
        "x = newdf[[\"Round\", \"Opponent\", \"Team\", \"Team_accum_goals\", \"Team_accum_points\",\n",
        "           \"Opp_accum_goals\",\"Team_accum_goals_conceded\",\"opp_accum_goals_conceded\", \"Opp_accum_points\", \"Team_Points(T-1)\", \"Team_Points(T-2)\",\n",
        "            \"Team_Points(T-3)\", \"Team_Points(T-4)\", \"Team_Points(T-5)\", \"Opp_Points(T-2)\",\n",
        "            \"Opp_Points(T-3)\", \"Opp_Points(T-4)\", \"Opp_Points(T-5)\"]]\n",
        "x =pd.get_dummies(x)\n",
        "y = newdf[\"Result\"]\n",
        "x.info()"
      ],
      "metadata": {
        "id": "VK6cBinVjenM"
      },
      "execution_count": null,
      "outputs": []
    },
    {
      "cell_type": "markdown",
      "source": [],
      "metadata": {
        "id": "_ZHAHJjZG88f"
      }
    },
    {
      "cell_type": "code",
      "source": [
        "# Dividimos los datos en conjuntos de entrenamiento y prueba 85% 6450\n",
        "\n",
        "# Entrenamiento  1 = 6424\n",
        "X_train = x.iloc[:6434]\n",
        "y_train = y.iloc[:6434]\n",
        "X_test = x.iloc[6434:7570]\n",
        "y_test = y.iloc[6434:7570]\n",
        "\n",
        "# Reentreno  2\n",
        "X_train2 = x.iloc[:7570]\n",
        "y_train2 = y.iloc[:7570]\n",
        "X_bc2 = x.iloc[7570:7576]\n",
        "y_bc2 = y.iloc[7570:7576]\n",
        "\n",
        "# Vuelta  3\n",
        "X_train3 = x.iloc[:7576]\n",
        "y_train3 = y.iloc[:7576]\n",
        "X_bc3 = x.iloc[7576:7582]\n",
        "y_bc3 = y.iloc[7576:7582]\n",
        "\n",
        "# Vuelta  4\n",
        "X_train4 = x.iloc[:7582]\n",
        "y_train4 = y.iloc[:7582]\n",
        "X_bc4 = x.iloc[7582:]\n",
        "y_bc4 = y.iloc[7582:]\n"
      ],
      "metadata": {
        "id": "87yuMTuu59-f"
      },
      "execution_count": null,
      "outputs": []
    },
    {
      "cell_type": "markdown",
      "source": [
        "Modelos Aplicados"
      ],
      "metadata": {
        "id": "55bCFgnQRsBZ"
      }
    },
    {
      "cell_type": "code",
      "source": [
        "# ■  - RandomForest\n",
        "\n",
        "# ■ entreno primera vuelta\n",
        "clf = RandomForestClassifier(n_estimators=120, max_depth=9, random_state=42)\n",
        "clf.fit(X_train, y_train)\n",
        "y_pred = clf.predict(X_test)                                                            # ■ realizo predicciones\n",
        "print(\"Precisión del modelo:\", accuracy_score(y_test, y_pred))                          # ■ Evalua modelo\n"
      ],
      "metadata": {
        "colab": {
          "base_uri": "https://localhost:8080/"
        },
        "id": "U9QZwyZbfsiL",
        "outputId": "a87e8598-f978-4c78-eda3-ba739533cf02"
      },
      "execution_count": null,
      "outputs": [
        {
          "output_type": "stream",
          "name": "stdout",
          "text": [
            "Precisión del modelo: 0.6426056338028169\n"
          ]
        }
      ]
    },
    {
      "cell_type": "code",
      "source": [
        "# ■ Reentreno 2\n",
        "clf.fit(X_train2, y_train2)                                                             # ■ Reentreno modelo\n",
        "y_pred2 = clf.predict(X_bc2)                                                          # ■  Realiza las predicciones con los nuevos datos\n",
        "print(\"Precisión del modelo después de reentrenar:\", accuracy_score(y_bc2, y_pred2))  # ■  Evalua modelo con Datos 2\n"
      ],
      "metadata": {
        "colab": {
          "base_uri": "https://localhost:8080/"
        },
        "id": "OBfQ8seJTkMj",
        "outputId": "bbe047bd-07f7-4a99-bc3d-89d1be4bb127"
      },
      "execution_count": null,
      "outputs": [
        {
          "output_type": "stream",
          "name": "stdout",
          "text": [
            "Precisión del modelo después de reentrenar: 1.0\n"
          ]
        }
      ]
    },
    {
      "cell_type": "code",
      "source": [
        "# ■ Reentreno 3\n",
        "clf.fit(X_train3, y_train3)                                                             # ■ Reentreno modelo\n",
        "y_pred3 = clf.predict(X_bc3)                                                          # ■  Realiza las predicciones con los nuevos datos\n",
        "print(\"Precisión del modelo después de reentrenar:\", accuracy_score(y_bc3, y_pred3))  # ■  Evalua modelo con Datos 2"
      ],
      "metadata": {
        "colab": {
          "base_uri": "https://localhost:8080/"
        },
        "id": "CE_lUcZGU5wR",
        "outputId": "d9f059ae-e1c8-4091-fd95-77e59b86c9fa"
      },
      "execution_count": null,
      "outputs": [
        {
          "output_type": "stream",
          "name": "stdout",
          "text": [
            "Precisión del modelo después de reentrenar: 0.8333333333333334\n"
          ]
        }
      ]
    },
    {
      "cell_type": "code",
      "source": [
        "# ■ Reentreno 4\n",
        "clf.fit(X_train4, y_train4)                                                             # ■ Reentreno modelo\n",
        "y_pred4 = clf.predict(X_bc4)                                                          # ■  Realiza las predicciones con los nuevos datos\n",
        "print(\"Precisión del modelo después de reentrenar:\", accuracy_score(y_bc4, y_pred4))  # ■  Evalua modelo con Datos 2\n"
      ],
      "metadata": {
        "colab": {
          "base_uri": "https://localhost:8080/"
        },
        "id": "UvYpg_wkVHWq",
        "outputId": "8b1a9471-77ce-45f6-d7b5-a9a77bb25d6f"
      },
      "execution_count": null,
      "outputs": [
        {
          "output_type": "stream",
          "name": "stdout",
          "text": [
            "Precisión del modelo después de reentrenar: 0.3333333333333333\n"
          ]
        }
      ]
    },
    {
      "cell_type": "code",
      "source": [
        "# ■  - XG BOOST\n",
        "\n",
        "# ■ Entreno primera vuelta\n",
        "model = XGBClassifier(use_label_encoder=False, n_estimators=187, max_depth=8, learning_rate=0.0369984949752035)\n",
        "model.fit(X_train, y_train)\n",
        "y_pred = model.predict(X_test)                                                  # ■ realizo predicciones\n",
        "accuracy = accuracy_score(y_test, y_pred)                                       # ■ Evalúa el modelo\n",
        "print(f'Precisión del modelo: {accuracy}')                                      # ■ Evalua modelo\n"
      ],
      "metadata": {
        "colab": {
          "base_uri": "https://localhost:8080/"
        },
        "id": "7iSHIl4RUIdd",
        "outputId": "46c66ae0-e9c7-447a-d9a3-93f3661acb47"
      },
      "execution_count": null,
      "outputs": [
        {
          "output_type": "stream",
          "name": "stdout",
          "text": [
            "Precisión del modelo: 0.6346830985915493\n"
          ]
        }
      ]
    },
    {
      "cell_type": "code",
      "source": [
        "# ■ Reentreno 2\n",
        "model.fit(X_train2, y_train2)                                                   # ■ Reentreno modelo\n",
        "y_pred2 = model.predict(X_bc2)                                                # ■  Realiza las predicciones con los nuevos datos\n",
        "accuracy2 = accuracy_score(y_bc2, y_pred2)                                    # ■  Evalua modelo con Datos 2\n",
        "print(f'Precisión del modelo después de reentrenar: {accuracy2}')"
      ],
      "metadata": {
        "colab": {
          "base_uri": "https://localhost:8080/"
        },
        "id": "n1V5EzisXE_X",
        "outputId": "b631f446-f264-46d8-f93d-5f246b7cde6a"
      },
      "execution_count": null,
      "outputs": [
        {
          "output_type": "stream",
          "name": "stdout",
          "text": [
            "Precisión del modelo después de reentrenar: 0.8333333333333334\n"
          ]
        }
      ]
    },
    {
      "cell_type": "code",
      "source": [
        "# ■ Reentreno 3\n",
        "model.fit(X_train3, y_train3)                                                   # ■ Reentreno modelo\n",
        "y_pred3 = model.predict(X_bc3)                                                # ■  Realiza las predicciones con los nuevos datos\n",
        "accuracy3 = accuracy_score(y_bc3, y_pred3)                                    # ■  Evalua modelo con Datos 2\n",
        "print(f'Precisión del modelo después de reentrenar: {accuracy3}')"
      ],
      "metadata": {
        "colab": {
          "base_uri": "https://localhost:8080/"
        },
        "id": "xv4dwzMXXZl7",
        "outputId": "755e8eb5-d875-4d7d-a9e5-3807ceb5cf11"
      },
      "execution_count": null,
      "outputs": [
        {
          "output_type": "stream",
          "name": "stdout",
          "text": [
            "Precisión del modelo después de reentrenar: 0.8333333333333334\n"
          ]
        }
      ]
    },
    {
      "cell_type": "code",
      "source": [
        "# ■ Reentreno 4\n",
        "model.fit(X_train4, y_train4)                                                   # ■ Reentreno modelo\n",
        "y_pred4 = model.predict(X_bc4)                                                # ■  Realiza las predicciones con los nuevos datos\n",
        "accuracy4 = accuracy_score(y_bc4, y_pred4)                                    # ■  Evalua modelo con Datos 2\n",
        "print(f'Precisión del modelo después de reentrenar: {accuracy4}')"
      ],
      "metadata": {
        "colab": {
          "base_uri": "https://localhost:8080/"
        },
        "id": "dgvlnqu0Xip0",
        "outputId": "f2f22449-fcb8-4ecf-c990-2281e0cf4a6e"
      },
      "execution_count": null,
      "outputs": [
        {
          "output_type": "stream",
          "name": "stdout",
          "text": [
            "Precisión del modelo después de reentrenar: 0.3333333333333333\n"
          ]
        }
      ]
    }
  ]
}